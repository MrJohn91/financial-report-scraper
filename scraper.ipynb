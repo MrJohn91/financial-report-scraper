{
 "cells": [
  {
   "cell_type": "markdown",
   "metadata": {},
   "source": [
    "## Acousort"
   ]
  },
  {
   "cell_type": "code",
   "execution_count": 2,
   "metadata": {},
   "outputs": [
    {
     "name": "stdout",
     "output_type": "stream",
     "text": [
      "Found RSS Feed: https://acousort.com/feed/\n",
      "Found RSS Feed: https://acousort.com/comments/feed/\n",
      "Possible Press Release Link: https://acousort.com/company/news-page/\n",
      "Possible Press Release Link: /investors\n",
      "Possible Press Release Link: https://acousort.com/mfn_news/acousort-in-new-collaboration-to-improve-sepsis-treatment/\n",
      "Possible Press Release Link: https://acousort.com/mfn_news/acousort-to-explore-south-korean-opportunities-at-the-kimes-exhibition/\n",
      "Possible Press Release Link: https://acousort.com/mfn_news/the-exercise-period-for-warrants-of-series-to-2-in-acousort-begins-today/\n",
      "Possible Press Release Link: https://acousort.com/mfn_news/notice-of-extraordinary-general-meeting-in-acousort-ab-publ/\n",
      "Possible Press Release Link: https://acousort.com/company/news-page/\n",
      "Possible Press Release Link: https://acousort.com/investors/\n",
      "Possible Press Release Link: https://acousort.com/company/news-page/\n",
      "Possible Press Release Link: /investors/\n"
     ]
    }
   ],
   "source": [
    "import requests\n",
    "from bs4 import BeautifulSoup\n",
    "\n",
    "url = 'https://www.acousort.com/'\n",
    "\n",
    "# GET request\n",
    "response = requests.get(url)\n",
    "response.raise_for_status() \n",
    "\n",
    "#  Parse  HTML content using BeautifulSoup\n",
    "soup = BeautifulSoup(response.text, 'html.parser')\n",
    "\n",
    "rss_links = soup.find_all('link', {'type': 'application/rss+xml'})\n",
    "\n",
    "if rss_links:\n",
    "    for link in rss_links:\n",
    "        print(f\"Found RSS Feed: {link['href']}\")\n",
    "else:\n",
    "    print(\"No RSS feed found\")\n",
    "\n",
    "# searching for links containing press\n",
    "keywords = ['press', 'news', 'investor']\n",
    "links = soup.find_all('a', href=True)\n",
    "\n",
    "for link in links:\n",
    "    if any(keyword in link['href'].lower() for keyword in keywords):\n",
    "        print(f\"Possible Press Release Link: {link['href']}\")\n"
   ]
  },
  {
   "cell_type": "markdown",
   "metadata": {},
   "source": [
    "###  Scraper for the press Release feed"
   ]
  },
  {
   "cell_type": "code",
   "execution_count": 101,
   "metadata": {},
   "outputs": [
    {
     "name": "stdout",
     "output_type": "stream",
     "text": [
      "                                                     title                                                      \\\n",
      "0                                    AcouSort announces the outcome of the exercise of warrants of series TO 2   \n",
      "1                                                    AcouSort in new collaboration to improve sepsis treatment   \n",
      "2                                       AcouSort to explore South Korean opportunities at the KIMES exhibition   \n",
      "3                                     The exercise period for warrants of series TO 2 in AcouSort begins today   \n",
      "4                                                NOTICE OF EXTRAORDINARY GENERAL MEETING IN ACOUSORT AB (PUBL)   \n",
      "5  The Board of Directors’ of AcouSort resolves on a partially secured rights issue of approximately MSEK 34.1   \n",
      "6                                                                  AcouSort and Bio-ReCell enter collaboration   \n",
      "7                                                 Year end report for AcouSort AB 1 January – 31 December 2024   \n",
      "8                                           AcouSort reschedules the 2024 year-end report to February 14, 2025   \n",
      "9          AcouSort to meet with leading cell therapy and flow cytometry companies at two upcoming conferences   \n",
      "\n",
      "                                                                     link                                                                     \n",
      "0                                   https://acousort.com/mfn_news/acousort-announces-the-outcome-of-the-exercise-of-warrants-of-series-to-2/  \n",
      "1                                                   https://acousort.com/mfn_news/acousort-in-new-collaboration-to-improve-sepsis-treatment/  \n",
      "2                                      https://acousort.com/mfn_news/acousort-to-explore-south-korean-opportunities-at-the-kimes-exhibition/  \n",
      "3                                    https://acousort.com/mfn_news/the-exercise-period-for-warrants-of-series-to-2-in-acousort-begins-today/  \n",
      "4                                                 https://acousort.com/mfn_news/notice-of-extraordinary-general-meeting-in-acousort-ab-publ/  \n",
      "5  https://acousort.com/mfn_news/the-board-of-directors-of-acousort-resolves-on-a-partially-secured-rights-issue-of-approximately-msek-34-1/  \n",
      "6                                                                 https://acousort.com/mfn_news/acousort-and-bio-recell-enter-collaboration/  \n",
      "7                                                  https://acousort.com/mfn_news/year-end-report-for-acousort-ab-1-january-31-december-2024/  \n",
      "8                                           https://acousort.com/mfn_news/acousort-reschedules-the-2024-year-end-report-to-february-14-2025/  \n",
      "9         https://acousort.com/mfn_news/acousort-to-meet-with-leading-cell-therapy-and-flow-cytometry-companies-at-two-upcoming-conferences/  \n"
     ]
    }
   ],
   "source": [
    "import requests\n",
    "from bs4 import BeautifulSoup\n",
    "\n",
    "url = 'https://acousort.com/investors/press-releases/'\n",
    "headers = {'User-Agent': 'Mozilla/5.0'}\n",
    "\n",
    "response = requests.get(url, headers=headers)\n",
    "\n",
    "# Parse content using BeautifulSoup\n",
    "soup = BeautifulSoup(response.content, 'html.parser')\n",
    "\n",
    "press_releases = [\n",
    "    {\n",
    "        'title': link.text.strip(),\n",
    "        'link': link['href'] if link['href'].startswith('http') else f\"https://acousort.com{link['href']}\"\n",
    "    }\n",
    "    for link in soup.find_all('a', href=True) if '/mfn_news/' in link['href']\n",
    "]\n",
    "\n",
    "import pandas as pd\n",
    "df = pd.DataFrame(press_releases)\n",
    "\n",
    "print(df)\n"
   ]
  },
  {
   "cell_type": "markdown",
   "metadata": {},
   "source": [
    "#### Filtering for Quarterly and Annual Reports"
   ]
  },
  {
   "cell_type": "code",
   "execution_count": 102,
   "metadata": {},
   "outputs": [
    {
     "name": "stdout",
     "output_type": "stream",
     "text": [
      "                                 title                                 \\\n",
      "8  AcouSort reschedules the 2024 year-end report to February 14, 2025   \n",
      "\n",
      "                                                 link                                                \n",
      "8  https://acousort.com/mfn_news/acousort-reschedules-the-2024-year-end-report-to-february-14-2025/  \n"
     ]
    }
   ],
   "source": [
    "# keywords to filter press releases that contain quarterly or annual reports\n",
    "keywords = ['q1', 'q2', 'q3', 'q4', 'year-end', 'financial']\n",
    "\n",
    "# keep relevant press releases\n",
    "filtered_reports = df[df['title'].str.contains('|'.join(keywords), case=False, na=False)].copy()\n",
    "\n",
    "print(filtered_reports)\n"
   ]
  },
  {
   "cell_type": "markdown",
   "metadata": {},
   "source": [
    "#### Extract Year and Quarter from Titles"
   ]
  },
  {
   "cell_type": "code",
   "execution_count": 103,
   "metadata": {},
   "outputs": [
    {
     "name": "stdout",
     "output_type": "stream",
     "text": [
      "                                 title                                 \\\n",
      "8  AcouSort reschedules the 2024 year-end report to February 14, 2025   \n",
      "\n",
      "                                                 link                                                \\\n",
      "8  https://acousort.com/mfn_news/acousort-reschedules-the-2024-year-end-report-to-february-14-2025/   \n",
      "\n",
      "   year quarter  \n",
      "8  2024    Q4    \n"
     ]
    }
   ],
   "source": [
    "import re\n",
    "\n",
    "def extract_year_and_quarter(title):\n",
    "    year = re.search(r'\\b(20\\d{2})\\b', title)  \n",
    "    quarter_match = re.search(r'\\b(Q[1-4])\\b', title)  \n",
    "    quarter = quarter_match.group(0) if quarter_match else ('Q4' if 'year-end' in title.lower() else None)\n",
    "    return year.group(0) if year else None, quarter\n",
    "\n",
    "# function to extract year and quarter for each press release\n",
    "filtered_reports[['year', 'quarter']] = filtered_reports['title'].apply(\n",
    "    lambda x: pd.Series(extract_year_and_quarter(x))\n",
    ")\n",
    "\n",
    "print(filtered_reports)\n"
   ]
  },
  {
   "cell_type": "markdown",
   "metadata": {},
   "source": [
    "#### Track Links to Financial Reports Page"
   ]
  },
  {
   "cell_type": "code",
   "execution_count": 108,
   "metadata": {},
   "outputs": [
    {
     "name": "stdout",
     "output_type": "stream",
     "text": [
      "                                 title                                 \\\n",
      "8  AcouSort reschedules the 2024 year-end report to February 14, 2025   \n",
      "\n",
      "                                                 link                                                \\\n",
      "8  https://acousort.com/mfn_news/acousort-reschedules-the-2024-year-end-report-to-february-14-2025/   \n",
      "\n",
      "   year quarter                   financial_report_link                     \n",
      "8  2024    Q4    https://acousort.com/investors/reports/financial-reports/  \n"
     ]
    }
   ],
   "source": [
    "# Function to check if the press release contains a financial report reference\n",
    "def check_for_financial_report_link(title, link):\n",
    "    financial_link = None\n",
    "    # check if the title mentions 'financial' or 'year-end' reports\n",
    "    if 'financial' in title.lower() or 'year-end' in title.lower():\n",
    "        financial_link = 'https://acousort.com/investors/reports/financial-reports/'\n",
    "    return financial_link\n",
    "\n",
    "# function to add the financial report link\n",
    "filtered_reports['financial_report_link'] = filtered_reports.apply(\n",
    "    lambda row: check_for_financial_report_link(row['title'], row['link']), axis=1\n",
    ")\n",
    "\n",
    "print(filtered_reports)\n"
   ]
  },
  {
   "cell_type": "code",
   "execution_count": null,
   "metadata": {},
   "outputs": [],
   "source": [
    "# checking page Elements \n",
    "print(soup.prettify()) \n"
   ]
  },
  {
   "cell_type": "code",
   "execution_count": 218,
   "metadata": {},
   "outputs": [
    {
     "name": "stdout",
     "output_type": "stream",
     "text": [
      "https://storage.mfn.se/e6f249f5-6986-4c4f-8e01-a8ee123c8096/acousort-ab-q4-2024-eng.pdf\n",
      "https://storage.mfn.se/095a74ce-e30e-43e8-a5ba-d2b2227a631d/acousort-ab-q3-2024-eng.pdf\n",
      "https://storage.mfn.se/ff719ce8-8b13-4acc-9b1e-93a16d30cd9d/acousort-ab-q2-2024-eng.pdf\n",
      "https://storage.mfn.se/6df319fa-5038-4c9c-ab16-1e2d633e154c/acousort-ab-q1-2024-eng.pdf\n"
     ]
    }
   ],
   "source": [
    "from selenium import webdriver\n",
    "from selenium.webdriver.common.by import By\n",
    "from selenium.webdriver.support.ui import WebDriverWait\n",
    "from selenium.webdriver.support import expected_conditions as EC\n",
    "\n",
    "url = 'https://acousort.com/investors/reports/financial-reports/'\n",
    "driver = webdriver.Chrome() \n",
    "driver.get(url)\n",
    "\n",
    "WebDriverWait(driver, 10).until(\n",
    "    EC.presence_of_element_located((By.CSS_SELECTOR, '.mfn-archive'))\n",
    ")\n",
    "\n",
    "# Extracting PDF links for 2024 reports\n",
    "pdf_links_2024 = []\n",
    "\n",
    "pdf_elements = driver.find_elements(By.XPATH, \"//a[contains(@href, '.pdf')]\")\n",
    "\n",
    "# Loop through each element and filter links for 2024\n",
    "for element in pdf_elements:\n",
    "    link = element.get_attribute('href')\n",
    "    if '2024' in link:  \n",
    "        pdf_links_2024.append(link)\n",
    "\n",
    "for link in pdf_links_2024:\n",
    "    print(link)\n",
    "\n",
    "driver.quit()\n"
   ]
  },
  {
   "cell_type": "markdown",
   "metadata": {},
   "source": [
    "## Carlsberg"
   ]
  },
  {
   "cell_type": "code",
   "execution_count": 138,
   "metadata": {},
   "outputs": [
    {
     "name": "stdout",
     "output_type": "stream",
     "text": [
      "Page fetched successfully!\n"
     ]
    }
   ],
   "source": [
    "import requests\n",
    "from bs4 import BeautifulSoup\n",
    "import re\n",
    "\n",
    "base_url = \"https://www.carlsberggroup.com\"\n",
    "\n",
    "url = base_url + '/investor-relations/investor-home/company-announcements/'\n",
    "response = requests.get(url)\n",
    "\n",
    "if response.status_code == 200:\n",
    "    print(\"Page fetched successfully!\")\n",
    "    page_content = response.content\n",
    "else:\n",
    "    print(f\"Failed to fetch page. Status code: {response.status_code}\")"
   ]
  },
  {
   "cell_type": "code",
   "execution_count": 144,
   "metadata": {},
   "outputs": [
    {
     "name": "stdout",
     "output_type": "stream",
     "text": [
      "Found relevant link: https://www.carlsberggroup.com/sustainability/report-policies/2024-annual-report/\n",
      "Found relevant link: https://www.carlsberggroup.com/investor-relations/investor-home/fy-2024-financial-statement/\n",
      "Found relevant link: https://www.carlsberggroup.com/investor-relations/investor-home/company-announcements/\n",
      "Found relevant link: https://www.carlsberggroup.com/sustainability/report-policies/2024-annual-report/\n",
      "Found relevant link: https://www.carlsberggroup.com/investor-relations/investor-home/fy-2024-financial-statement/\n",
      "Found relevant link: https://www.carlsberggroup.com/investor-relations/investor-home/company-announcements/\n",
      "Refined Relevant links found:\n",
      "https://www.carlsberggroup.com/sustainability/report-policies/2024-annual-report/\n",
      "https://www.carlsberggroup.com/investor-relations/investor-home/fy-2024-financial-statement/\n",
      "https://www.carlsberggroup.com/investor-relations/investor-home/company-announcements/\n",
      "https://www.carlsberggroup.com/sustainability/report-policies/2024-annual-report/\n",
      "https://www.carlsberggroup.com/investor-relations/investor-home/fy-2024-financial-statement/\n",
      "https://www.carlsberggroup.com/investor-relations/investor-home/company-announcements/\n"
     ]
    }
   ],
   "source": [
    "soup = BeautifulSoup(page_content, 'html.parser')\n",
    "\n",
    "def is_relevant_link(link):\n",
    "    relevant_keywords = ['fy-', 'q1-', 'q2-', 'q3-', 'q4-', 'annual-report', 'financial-statement', 'trading-statement', 'press-release', 'announcement']\n",
    "    \n",
    "    for keyword in relevant_keywords:\n",
    "        if keyword.lower() in link.lower():\n",
    "            return True\n",
    "    return False\n",
    "\n",
    "# Find all the links on the page\n",
    "links = soup.find_all('a', href=True)\n",
    "\n",
    "# Initialize a list to store relevant links\n",
    "relevant_links = []\n",
    "\n",
    "# Loop through links\n",
    "for link in links:\n",
    "    href = link['href']\n",
    "    if is_relevant_link(href):\n",
    "        full_url = base_url + href if not href.startswith('http') else href\n",
    "        relevant_links.append(full_url)\n",
    "        print(f\"Found relevant link: {full_url}\")\n",
    "\n",
    "if relevant_links:\n",
    "    print(\"Refined Relevant links found:\")\n",
    "    for url in relevant_links:\n",
    "        print(url)\n",
    "else:\n",
    "    print(\"No relevant links found.\")\n"
   ]
  },
  {
   "cell_type": "code",
   "execution_count": 145,
   "metadata": {},
   "outputs": [
    {
     "name": "stdout",
     "output_type": "stream",
     "text": [
      "Unique Relevant links found:\n",
      "https://www.carlsberggroup.com/investor-relations/investor-home/company-announcements/\n",
      "https://www.carlsberggroup.com/sustainability/report-policies/2024-annual-report/\n",
      "https://www.carlsberggroup.com/investor-relations/investor-home/fy-2024-financial-statement/\n"
     ]
    }
   ],
   "source": [
    "# Remove duplicate links\n",
    "relevant_links = list(set(relevant_links))\n",
    "\n",
    "print(\"Unique Relevant links found:\")\n",
    "for url in relevant_links:\n",
    "    print(url)\n"
   ]
  },
  {
   "cell_type": "markdown",
   "metadata": {},
   "source": [
    "##  Stockwik"
   ]
  },
  {
   "cell_type": "code",
   "execution_count": 162,
   "metadata": {},
   "outputs": [
    {
     "name": "stdout",
     "output_type": "stream",
     "text": [
      "All Links on Stockwik Main Page:\n",
      "https://www.stockwik.se/\n",
      "https://www.stockwik.se/om-oss-eng\n",
      "https://www.stockwik.se/\n",
      "https://www.stockwik.se/om-oss\n",
      "https://www.stockwik.se/var-process\n",
      "https://www.stockwik.se/bolag-och-segment\n",
      "https://www.stockwik.se/bolagsstyrning\n",
      "https://www.stockwik.se/karriar\n",
      "https://www.stockwik.se/finansiellt\n",
      "https://www.stockwik.se/aktien\n",
      "https://www.stockwik.se/press\n",
      "https://www.stockwik.se/om-oss\n",
      "https://www.stockwik.se/\n",
      "mailto:info@stockwik.se\n",
      "https://www.linkedin.com/company/stockwik-f%C3%B6rvaltning-ab/\n",
      "https://www.facebook.com/stockwik/\n",
      "https://www.instagram.com/stockwik/\n",
      "https://cns.omxgroup.com/cdsPublic/createSubscriptionsWizard.action?request_locale=sv&css=http://www.omxgroup.com/static/css/externPop.css\n"
     ]
    }
   ],
   "source": [
    "from selenium import webdriver\n",
    "from selenium.webdriver.chrome.service import Service\n",
    "from selenium.webdriver.chrome.options import Options\n",
    "from webdriver_manager.chrome import ChromeDriverManager\n",
    "from selenium.webdriver.common.by import By\n",
    "\n",
    "# Set up driver \n",
    "chrome_service = Service(ChromeDriverManager().install())\n",
    "chrome_options = Options()\n",
    "\n",
    "try:\n",
    "    driver = webdriver.Chrome(service=chrome_service, options=chrome_options)\n",
    "\n",
    "    driver.get(\"https://www.stockwik.se/\")\n",
    "\n",
    "    # Extract all links from the page\n",
    "    links = driver.find_elements(By.XPATH, \"//a[@href]\")\n",
    "\n",
    "    print(\"All Links on Stockwik Main Page:\")\n",
    "    for link in links:\n",
    "        href = link.get_attribute('href')\n",
    "        print(href)\n",
    "\n",
    "except Exception as e:\n",
    "    print(f\"Error occurred: {e}\")\n",
    "\n",
    "finally:\n",
    "    driver.quit()\n"
   ]
  },
  {
   "cell_type": "markdown",
   "metadata": {},
   "source": [
    "#### Press release page"
   ]
  },
  {
   "cell_type": "code",
   "execution_count": 163,
   "metadata": {},
   "outputs": [
    {
     "name": "stdout",
     "output_type": "stream",
     "text": [
      "All Links on Stockwik Press Page:\n",
      "https://www.stockwik.se/\n",
      "https://www.stockwik.se/om-oss-eng\n",
      "https://www.stockwik.se/\n",
      "https://www.stockwik.se/om-oss\n",
      "https://www.stockwik.se/var-process\n",
      "https://www.stockwik.se/bolag-och-segment\n",
      "https://www.stockwik.se/bolagsstyrning\n",
      "https://www.stockwik.se/karriar\n",
      "https://www.stockwik.se/finansiellt\n",
      "https://www.stockwik.se/aktien\n",
      "https://www.stockwik.se/press\n",
      "https://www.stockwik.se/presentationer\n",
      "https://www.stockwik.se/pressmeddelanden\n",
      "https://www.stockwik.se/bilder-och-grafik\n",
      "https://www.stockwik.se/\n",
      "mailto:info@stockwik.se\n",
      "https://www.linkedin.com/company/stockwik-f%C3%B6rvaltning-ab/\n",
      "https://www.facebook.com/stockwik/\n",
      "https://www.instagram.com/stockwik/\n",
      "https://cns.omxgroup.com/cdsPublic/createSubscriptionsWizard.action?request_locale=sv&css=http://www.omxgroup.com/static/css/externPop.css\n"
     ]
    }
   ],
   "source": [
    "# Start Chrome browser\n",
    "try:\n",
    "    driver = webdriver.Chrome(service=chrome_service, options=chrome_options)\n",
    "\n",
    "    # Open Stockwik's press page\n",
    "    driver.get(\"https://www.stockwik.se/press\")\n",
    "\n",
    "    # Extract all links from the press page\n",
    "    links = driver.find_elements(By.XPATH, \"//a[@href]\")\n",
    "\n",
    "    print(\"All Links on Stockwik Press Page:\")\n",
    "    for link in links:\n",
    "        href = link.get_attribute('href')\n",
    "        print(href)\n",
    "\n",
    "except Exception as e:\n",
    "    print(f\"Error occurred: {e}\")\n",
    "\n",
    "finally:\n",
    "    driver.quit()"
   ]
  },
  {
   "cell_type": "code",
   "execution_count": 198,
   "metadata": {},
   "outputs": [
    {
     "name": "stdout",
     "output_type": "stream",
     "text": [
      "https://www.stockwik.se/_files/ugd/5fbe47_66958287e4df444bb4f521b04c65f474.pdf\n",
      "https://www.stockwik.se/_files/ugd/5fbe47_5a886f08b2c8442dab8fa88933aa7a7d.pdf\n",
      "https://www.stockwik.se/_files/ugd/5fbe47_81335e69a71b43bfb0e31b24171da7db.pdf\n",
      "https://www.stockwik.se/_files/ugd/5fbe47_e10e78b3a2f54ba3a7d56373b19a2045.pdf\n",
      "https://www.stockwik.se/_files/ugd/5fbe47_6eccb0172c3346ab9896be77596071e1.pdf\n",
      "https://www.stockwik.se/_files/ugd/5fbe47_b2ac0f4598e24c088aa1b9ce93398ddb.pdf\n",
      "https://www.stockwik.se/_files/ugd/5fbe47_425b13672aa64555b81100fb509c97a4.pdf\n",
      "https://www.stockwik.se/_files/ugd/5fbe47_62d6829b8e15476e8d73168a6e140274.pdf\n",
      "https://www.stockwik.se/_files/ugd/5fbe47_5d4a03c356504887894e1f34f8113e58.pdf\n",
      "https://www.stockwik.se/_files/ugd/5fbe47_ed56bd3527644c2c97709c66e1e2b14a.pdf\n",
      "https://www.stockwik.se/_files/ugd/5fbe47_3e3b35a06327437d8aa68a174a611553.pdf\n",
      "https://www.stockwik.se/_files/ugd/5fbe47_2158ad8aa5a04586882f4ec35225d41f.pdf\n",
      "https://www.stockwik.se/_files/ugd/5fbe47_3d62c07940a14942b67ed2b730af2b83.pdf\n",
      "https://www.stockwik.se/_files/ugd/5fbe47_f051f4a427c647638a4e41782db2434e.pdf\n",
      "https://www.stockwik.se/_files/ugd/25f4f0_a8ea66a09a514e7280701fdb564c0487.pdf\n",
      "https://www.stockwik.se/_files/ugd/25f4f0_d40537193c484c61a0728bd7ffefdd7d.pdf\n",
      "https://www.stockwik.se/_files/ugd/25f4f0_24fe4ff9ff9d419aac8708188dd170ac.pdf\n",
      "https://www.stockwik.se/_files/ugd/25f4f0_e21d12f81a0e4bc2a1a302347d2086ae.pdf\n",
      "https://www.stockwik.se/_files/ugd/25f4f0_a1f0ed62fe184ecf938f235e2c35ebcd.pdf\n",
      "https://www.stockwik.se/_files/ugd/25f4f0_1fe68586890f4039b0ede20f23d46f01.pdf\n",
      "https://www.stockwik.se/_files/ugd/25f4f0_a0fa3910e4614f75b2669e82c682e995.pdf\n",
      "https://www.stockwik.se/_files/ugd/25f4f0_95dca65ac6654261acc8018ab9318133.pdf\n",
      "https://www.stockwik.se/_files/ugd/25f4f0_b8103d89d06b47ddb75bc9c1c71667d1.pdf\n",
      "https://www.stockwik.se/_files/ugd/25f4f0_ad677df3bacf4806927f5ca7d5666058.pdf\n",
      "https://www.stockwik.se/_files/ugd/25f4f0_4b8cec0d6ea24dd9a7cc7fc1a0332cbd.pdf\n",
      "https://www.stockwik.se/_files/ugd/25f4f0_6695d9338e4748d0a061e414b4f67967.pdf\n",
      "https://www.stockwik.se/_files/ugd/25f4f0_cfbf4da123854f20a6143093f5b8f805.pdf\n",
      "https://www.stockwik.se/_files/ugd/d0f6fa_3a313ef8bf974ed1beea110782fadfc9.pdf\n",
      "https://www.stockwik.se/_files/ugd/d0f6fa_c1bad56ae18d4636b0c5b19894d88bec.pdf\n",
      "https://www.stockwik.se/_files/ugd/d0f6fa_9b0366d793854d53a803f160d70c7f37.pdf\n",
      "https://www.stockwik.se/_files/ugd/d0f6fa_dda13f4a71e04e158591e7635c53d3d4.pdf\n",
      "https://www.stockwik.se/_files/ugd/d0f6fa_cc6809285cb140cf820a0b44bf2b0346.pdf\n",
      "https://www.stockwik.se/_files/ugd/d0f6fa_ed605ad774334acfbd3d4574bec0f224.pdf\n",
      "https://www.stockwik.se/_files/ugd/d0f6fa_4024301172e44d1b9e7cf01654640342.pdf\n",
      "https://www.stockwik.se/_files/ugd/d0f6fa_917cd10bdb734e32964d66034b67df5f.pdf\n",
      "https://www.stockwik.se/_files/ugd/d0f6fa_8824a60e68314f2caf74a7a300f77df9.pdf\n",
      "https://www.stockwik.se/_files/ugd/d0f6fa_e8165eb5b7264bf1bfcf27883e34d504.pdf\n",
      "https://www.stockwik.se/_files/ugd/d0f6fa_26ba9a623d384b0b82a7739c924743e2.pdf\n",
      "https://www.stockwik.se/_files/ugd/d0f6fa_b8aefcf439ad42e69786c254503f8237.pdf\n",
      "https://www.stockwik.se/_files/ugd/d0f6fa_3a5ed844ac844295ba68613344118c5e.pdf\n",
      "https://www.stockwik.se/_files/ugd/d0f6fa_9ec4580d4ffc41d9b83c2e84d7eb4f76.pdf\n",
      "https://www.stockwik.se/_files/ugd/d0f6fa_8cd14677c488445e91d8eeee16747428.pdf\n"
     ]
    }
   ],
   "source": [
    "from selenium import webdriver\n",
    "from selenium.webdriver.common.by import By\n",
    "import time\n",
    "import re\n",
    "\n",
    "driver = webdriver.Chrome()\n",
    "\n",
    "driver.get('https://www.stockwik.se/pressmeddelanden')\n",
    "\n",
    "time.sleep(5)\n",
    "\n",
    "# Find all press release links on the page\n",
    "links = driver.find_elements(By.TAG_NAME, 'a')\n",
    "\n",
    "financial_keywords = ['quarter', 'Q1', 'Q2', 'Q3', 'Q4', 'year-end', 'financial statement', 'annual report', '(ENG)']\n",
    "stockwik_relevant_links = []\n",
    "\n",
    "# Loop through all the links and filter based on relevant keywords\n",
    "for link in links:\n",
    "    title = link.text.lower()\n",
    "    if any(keyword.lower() in title for keyword in financial_keywords):\n",
    "        stockwik_relevant_links.append(link.get_attribute('href'))\n",
    "\n",
    "for link in relevant_links:\n",
    "    print(link)\n",
    "\n",
    "driver.quit()\n"
   ]
  },
  {
   "cell_type": "code",
   "execution_count": null,
   "metadata": {},
   "outputs": [],
   "source": [
    "from bs4 import BeautifulSoup\n",
    "import requests\n",
    "\n",
    "url = 'https://www.stockwik.se/pressmeddelanden'\n",
    "\n",
    "# Send request\n",
    "response = requests.get(url)\n",
    "soup = BeautifulSoup(response.text, 'html.parser')\n",
    "\n",
    "links = soup.find_all('a', href=True)\n",
    "\n",
    "# Inspect all the links' href and text\n",
    "for link in links:\n",
    "    href = link['href']\n",
    "    link_text = link.text.strip()\n",
    "    print(f\"Link text: {link_text}\")\n",
    "    print(f\"Link href: {href}\")\n",
    "    print(\"-\" * 50)\n",
    "\n",
    "# Filter links\n",
    "filtered_links = []\n",
    "for link in links:\n",
    "    href = link['href']\n",
    "    link_text = link.text.strip()\n",
    "\n",
    "    if '2024' in href and '(ENG)' in link_text:\n",
    "        if href.startswith('/'):\n",
    "            full_url = f\"https://www.stockwik.se{href}\"\n",
    "        else:\n",
    "            full_url = href\n",
    "        filtered_links.append(full_url)\n",
    "\n",
    "if filtered_links:\n",
    "    print(\"\\nFiltered links:\")\n",
    "    for link in filtered_links:\n",
    "        print(link)\n",
    "else:\n",
    "    print(\"No matching links found.\")\n"
   ]
  },
  {
   "cell_type": "code",
   "execution_count": 203,
   "metadata": {},
   "outputs": [
    {
     "name": "stdout",
     "output_type": "stream",
     "text": [
      "\n",
      "Filtered links:\n",
      "https://www.stockwik.se/_files/ugd/5fbe47_5a886f08b2c8442dab8fa88933aa7a7d.pdf\n",
      "https://www.stockwik.se/_files/ugd/5fbe47_e10e78b3a2f54ba3a7d56373b19a2045.pdf\n",
      "https://www.stockwik.se/_files/ugd/5fbe47_b2ac0f4598e24c088aa1b9ce93398ddb.pdf\n",
      "https://www.stockwik.se/_files/ugd/5fbe47_5d4a03c356504887894e1f34f8113e58.pdf\n"
     ]
    }
   ],
   "source": [
    "# filter words\n",
    "filtered_links = []\n",
    "for link in links:\n",
    "    href = link['href']\n",
    "    link_text = link.text.strip()\n",
    "\n",
    "    if '(ENG)' in link_text and ('4Q24' in link_text or '3Q24' in link_text or '2Q24' in link_text or '1Q24' in link_text or '2024' in link_text):\n",
    "        if href.startswith('/'):\n",
    "            full_url = f\"https://www.stockwik.se{href}\"\n",
    "        else:\n",
    "            full_url = href\n",
    "        filtered_links.append(full_url)\n",
    "\n",
    "if filtered_links:\n",
    "    print(\"\\nFiltered links:\")\n",
    "    for link in filtered_links:\n",
    "        print(link)\n",
    "else:\n",
    "    print(\"No matching links found.\")\n"
   ]
  },
  {
   "cell_type": "code",
   "execution_count": 222,
   "metadata": {},
   "outputs": [
    {
     "name": "stdout",
     "output_type": "stream",
     "text": [
      " Company  Quarter     Report Type                                                 Link                                              Year\n",
      " Acousort  FY/Q4      Year-End Report      https://storage.mfn.se/e6f249f5-6986-4c4f-8e01-a8ee123c8096/acousort-ab-q4-2024-eng.pdf  2024\n",
      " Acousort     Q3       Interim Report      https://storage.mfn.se/095a74ce-e30e-43e8-a5ba-d2b2227a631d/acousort-ab-q3-2024-eng.pdf  2024\n",
      " Acousort     Q2       Interim Report      https://storage.mfn.se/ff719ce8-8b13-4acc-9b1e-93a16d30cd9d/acousort-ab-q2-2024-eng.pdf  2024\n",
      " Acousort     Q1       Interim Report      https://storage.mfn.se/6df319fa-5038-4c9c-ab16-1e2d633e154c/acousort-ab-q1-2024-eng.pdf  2024\n",
      "Carlsberg     FY        Annual Report            https://www.carlsberggroup.com/sustainability/report-policies/2024-annual-report/  2024\n",
      "Carlsberg     FY  Financial Statement https://www.carlsberggroup.com/investor-relations/investor-home/fy-2024-financial-statement/  2024\n",
      " Stockwik     Q4     Quarterly Report               https://www.stockwik.se/_files/ugd/5fbe47_5a886f08b2c8442dab8fa88933aa7a7d.pdf  2024\n",
      " Stockwik     Q3     Quarterly Report               https://www.stockwik.se/_files/ugd/5fbe47_e10e78b3a2f54ba3a7d56373b19a2045.pdf  2024\n",
      " Stockwik     Q2     Quarterly Report               https://www.stockwik.se/_files/ugd/5fbe47_b2ac0f4598e24c088aa1b9ce93398ddb.pdf  2024\n",
      " Stockwik     Q1     Quarterly Report               https://www.stockwik.se/_files/ugd/5fbe47_5d4a03c356504887894e1f34f8113e58.pdf  2024\n"
     ]
    }
   ],
   "source": [
    "import pandas as pd\n",
    "\n",
    "data = [\n",
    "    {'Company': 'Acousort', 'Quarter': 'FY/Q4', 'Report Type': 'Year-End Report', 'Link': 'https://storage.mfn.se/e6f249f5-6986-4c4f-8e01-a8ee123c8096/acousort-ab-q4-2024-eng.pdf', 'Year': 2024},\n",
    "    {'Company': 'Acousort', 'Quarter': 'Q3', 'Report Type': 'Interim Report', 'Link': 'https://storage.mfn.se/095a74ce-e30e-43e8-a5ba-d2b2227a631d/acousort-ab-q3-2024-eng.pdf', 'Year': 2024},\n",
    "    {'Company': 'Acousort', 'Quarter': 'Q2', 'Report Type': 'Interim Report', 'Link': 'https://storage.mfn.se/ff719ce8-8b13-4acc-9b1e-93a16d30cd9d/acousort-ab-q2-2024-eng.pdf', 'Year': 2024},\n",
    "    {'Company': 'Acousort', 'Quarter': 'Q1', 'Report Type': 'Interim Report', 'Link': 'https://storage.mfn.se/6df319fa-5038-4c9c-ab16-1e2d633e154c/acousort-ab-q1-2024-eng.pdf', 'Year': 2024},\n",
    "    {'Company': 'Carlsberg', 'Quarter': 'FY', 'Report Type': 'Annual Report', 'Link': 'https://www.carlsberggroup.com/sustainability/report-policies/2024-annual-report/', 'Year': 2024},\n",
    "    {'Company': 'Carlsberg', 'Quarter': 'FY', 'Report Type': 'Financial Statement', 'Link': 'https://www.carlsberggroup.com/investor-relations/investor-home/fy-2024-financial-statement/', 'Year': 2024},\n",
    "    {'Company': 'Stockwik', 'Quarter': 'Q4', 'Report Type': 'Quarterly Report', 'Link': 'https://www.stockwik.se/_files/ugd/5fbe47_5a886f08b2c8442dab8fa88933aa7a7d.pdf', 'Year': 2024},\n",
    "    {'Company': 'Stockwik', 'Quarter': 'Q3', 'Report Type': 'Quarterly Report', 'Link': 'https://www.stockwik.se/_files/ugd/5fbe47_e10e78b3a2f54ba3a7d56373b19a2045.pdf', 'Year': 2024},\n",
    "    {'Company': 'Stockwik', 'Quarter': 'Q2', 'Report Type': 'Quarterly Report', 'Link': 'https://www.stockwik.se/_files/ugd/5fbe47_b2ac0f4598e24c088aa1b9ce93398ddb.pdf', 'Year': 2024},\n",
    "    {'Company': 'Stockwik', 'Quarter': 'Q1', 'Report Type': 'Quarterly Report', 'Link': 'https://www.stockwik.se/_files/ugd/5fbe47_5d4a03c356504887894e1f34f8113e58.pdf', 'Year': 2024}\n",
    "]\n",
    "\n",
    "df = pd.DataFrame(data)\n",
    "\n",
    "pd.set_option('display.max_colwidth', None) \n",
    "pd.set_option('display.expand_frame_repr', False)\n",
    "\n",
    "print(df.to_string(index=False))\n"
   ]
  },
  {
   "cell_type": "code",
   "execution_count": 223,
   "metadata": {},
   "outputs": [
    {
     "name": "stdout",
     "output_type": "stream",
     "text": [
      "CSV file saved as 'financial_reports.csv'\n"
     ]
    }
   ],
   "source": [
    "df.to_csv('financial_reports.csv', index=False)\n",
    "\n",
    "print(\"CSV file saved as 'financial_reports.csv'\")"
   ]
  }
 ],
 "metadata": {
  "kernelspec": {
   "display_name": "base",
   "language": "python",
   "name": "python3"
  },
  "language_info": {
   "codemirror_mode": {
    "name": "ipython",
    "version": 3
   },
   "file_extension": ".py",
   "mimetype": "text/x-python",
   "name": "python",
   "nbconvert_exporter": "python",
   "pygments_lexer": "ipython3",
   "version": "3.11.8"
  }
 },
 "nbformat": 4,
 "nbformat_minor": 2
}
